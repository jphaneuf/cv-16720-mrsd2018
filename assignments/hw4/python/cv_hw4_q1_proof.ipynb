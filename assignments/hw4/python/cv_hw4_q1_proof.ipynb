{
 "cells": [
  {
   "cell_type": "code",
   "execution_count": 309,
   "metadata": {},
   "outputs": [],
   "source": [
    "import numpy as np\n",
    "from numpy.linalg import inv\n",
    "np.set_printoptions ( precision = 2)"
   ]
  },
  {
   "cell_type": "code",
   "execution_count": 310,
   "metadata": {},
   "outputs": [
    {
     "data": {
      "text/plain": [
       "array([[ 1.  ,  0.  , -3.96],\n",
       "       [ 0.  ,  0.25,  3.53],\n",
       "       [ 0.  , -0.97,  0.58]])"
      ]
     },
     "execution_count": 310,
     "metadata": {},
     "output_type": "execute_result"
    }
   ],
   "source": [
    "def collapse_m ( m ):\n",
    "    m2 = np.eye ( 3 )\n",
    "    m2 [ 0:3 , 0:3 ] = m [ 0:3 , [ 0 , 1 , 3] ]\n",
    "    return m2\n",
    "\n",
    "def collapse_v ( v ):\n",
    "    #return v [ [ 0 , 1 , 3 ]]\n",
    "    return v [ 0 : 3 ]\n",
    "\n",
    "def create_matrix (theta=None):\n",
    "    M = np.eye ( 4 )\n",
    "    M [ 0 , 3] = ( np.random.random ( ) - 0.5 ) * 10\n",
    "    M [ 1 , 3] = ( np.random.random ( ) - 0.5 ) * 10\n",
    "    M [ 2 , 3 ]= ( np.random.random ( ) - 0.5 ) * 10\n",
    "    if theta == None:\n",
    "        theta = np.random.random ( ) * 2 * np.pi\n",
    "    ##Rotate about Z\n",
    "    M [ 1 ,1 ] = np.cos ( theta )\n",
    "    M [ 2 ,2 ] = np.cos ( theta )\n",
    "    M [ 1 ,2 ] = -np.sin ( theta )\n",
    "    M [ 2 ,1 ] = np.sin ( theta )\n",
    "    return M\n",
    "def create_point ( ):\n",
    "    v = ( np.random.random ( 4 ) - 0.5 ) * 10\n",
    "    #v [ 2 ] = 0\n",
    "    v [ 3 ] = 1\n",
    "    return v\n",
    "\n",
    "def normalize ( v ):\n",
    "    return v / v [ 2 ]\n",
    "create_matrix()\n",
    "create_vector ()\n",
    "collapse_m ( create_matrix ())"
   ]
  },
  {
   "cell_type": "code",
   "execution_count": 311,
   "metadata": {},
   "outputs": [
    {
     "name": "stdout",
     "output_type": "stream",
     "text": [
      "[[ 1.    0.    0.   -3.06]\n",
      " [ 0.    0.9  -0.43 -3.9 ]\n",
      " [ 0.    0.43  0.9   1.26]\n",
      " [ 0.    0.    0.    1.  ]]\n",
      "[[  1.00e+00   0.00e+00   0.00e+00  -2.54e+00]\n",
      " [  0.00e+00   6.12e-17  -1.00e+00   1.52e+00]\n",
      " [  0.00e+00   1.00e+00   6.12e-17   3.91e+00]\n",
      " [  0.00e+00   0.00e+00   0.00e+00   1.00e+00]]\n",
      "[ 2.54  1.49  0.    1.  ] [ 2.54  1.49  1.  ]\n",
      "[-0.52 -2.56  1.91  1.  ] [-0.52 -2.56  1.91]\n",
      "[  4.67e-03   1.52e+00   5.40e+00   1.00e+00] [  4.67e-03   1.52e+00   5.40e+00]\n"
     ]
    }
   ],
   "source": [
    "Hw1 = create_matrix (theta = np.pi/7) \n",
    "Hw2 = create_matrix (theta = np.pi/2)\n",
    "\n",
    "#H21 = np.dot ( Hw1 , inv ( Hw2 ) )\n",
    "\n",
    "Pw = create_point ( )\n",
    "\n",
    "Pw [ 2 ] = 0\n",
    "Pwx = collapse_v ( np.copy ( Pw ) )\n",
    "Pwx [2 ] = 1\n",
    "\n",
    "\n",
    "P1 = np.dot ( Hw1 , Pw )\n",
    "P1x  = collapse_v ( P1 )\n",
    "\n",
    "P2 = np.dot ( Hw2 , Pw )\n",
    "P2x  = collapse_v ( P2 )\n",
    "print Hw1\n",
    "print Hw2\n",
    "print Pw , Pwx\n",
    "print P1 , P1x\n",
    "print P2 , P2x"
   ]
  },
  {
   "cell_type": "code",
   "execution_count": 312,
   "metadata": {},
   "outputs": [
    {
     "name": "stdout",
     "output_type": "stream",
     "text": [
      "[[ 1.    0.   -3.06]\n",
      " [ 0.    0.9  -3.9 ]\n",
      " [ 0.    0.43  1.26]]\n",
      "[[  1.00e+00   0.00e+00  -2.54e+00]\n",
      " [  0.00e+00   6.12e-17   1.52e+00]\n",
      " [  0.00e+00   1.00e+00   3.91e+00]]\n"
     ]
    }
   ],
   "source": [
    "Hw1x = collapse_m (Hw1 ) #maps 2d Pw to p1\n",
    "#Hw1x = Hw1x / Hw1x [ 2 ] [ 2 ]\n",
    "Hw2x = collapse_m (Hw2)   #maps 2d \n",
    "#Hw2x = Hw2x / Hw2x [ 2 ] [ 2 ]\n",
    "print Hw1x\n",
    "print Hw2x"
   ]
  },
  {
   "cell_type": "code",
   "execution_count": 313,
   "metadata": {},
   "outputs": [
    {
     "name": "stdout",
     "output_type": "stream",
     "text": [
      "[ 2.54  1.49  0.    1.  ]\n",
      "[ 2.54  1.49  1.  ]\n",
      "[-0.52 -2.56  1.91]\n",
      "[-0.52 -2.56  1.91]\n",
      "########\n",
      "[ 2.54  1.49  1.  ] [ 2.54  1.49  1.  ]\n",
      "########\n",
      "[ 2.54  1.49  1.  ] [ 2.54  1.49  1.  ]\n",
      "########\n",
      "[-0.52 -2.56  1.91] [-0.52 -2.56  1.91]\n"
     ]
    }
   ],
   "source": [
    "print Pw\n",
    "print Pwx\n",
    "#print np.dot ( Hw1 , Pw) # Pw in frame 1\n",
    "print P1x\n",
    "print np.dot ( Hw1x , Pwx ) # so Hw1x maps a  x y homogeneous in world frame to frame 1\n",
    "print '########'\n",
    "print Pwx , np.dot ( inv ( Hw1x ) , P1x )\n",
    "#P1x = Hw1x Pwx , Pwx = inv ( Hw1x ) P1x\n",
    "print '########'\n",
    "print Pwx , np.dot ( inv ( Hw2x ) , P2x )\n",
    "#P2x = Hw2x Pwx , Pwx = inv ( Hw2x ) P2x\n",
    "print '########'\n",
    "print P1x , np.dot ( Hw1x , np.dot ( inv ( Hw2x ) , P2x ) )\n",
    "#P1x = Hw1x H2wx P2x"
   ]
  }
 ],
 "metadata": {
  "kernelspec": {
   "display_name": "Python 2",
   "language": "python",
   "name": "python2"
  },
  "language_info": {
   "codemirror_mode": {
    "name": "ipython",
    "version": 2
   },
   "file_extension": ".py",
   "mimetype": "text/x-python",
   "name": "python",
   "nbconvert_exporter": "python",
   "pygments_lexer": "ipython2",
   "version": "2.7.14"
  }
 },
 "nbformat": 4,
 "nbformat_minor": 2
}
